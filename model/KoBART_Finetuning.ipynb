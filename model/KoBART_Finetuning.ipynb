{
 "cells": [
  {
   "cell_type": "code",
   "execution_count": 1,
   "id": "b2d7fd9a-eb78-4dbb-b664-6b8c38e7455a",
   "metadata": {
    "scrolled": true
   },
   "outputs": [
    {
     "name": "stdout",
     "output_type": "stream",
     "text": [
      "Mon Nov 11 03:07:40 2024       \n",
      "+-----------------------------------------------------------------------------------------+\n",
      "| NVIDIA-SMI 560.94                 Driver Version: 560.94         CUDA Version: 12.6     |\n",
      "|-----------------------------------------+------------------------+----------------------+\n",
      "| GPU  Name                  Driver-Model | Bus-Id          Disp.A | Volatile Uncorr. ECC |\n",
      "| Fan  Temp   Perf          Pwr:Usage/Cap |           Memory-Usage | GPU-Util  Compute M. |\n",
      "|                                         |                        |               MIG M. |\n",
      "|=========================================+========================+======================|\n",
      "|   0  NVIDIA GeForce RTX 3070      WDDM  |   00000000:01:00.0  On |                  N/A |\n",
      "|  0%   35C    P8             15W /  240W |     329MiB /   8192MiB |     10%      Default |\n",
      "|                                         |                        |                  N/A |\n",
      "+-----------------------------------------+------------------------+----------------------+\n",
      "                                                                                         \n",
      "+-----------------------------------------------------------------------------------------+\n",
      "| Processes:                                                                              |\n",
      "|  GPU   GI   CI        PID   Type   Process name                              GPU Memory |\n",
      "|        ID   ID                                                               Usage      |\n",
      "|=========================================================================================|\n",
      "|    0   N/A  N/A      2056    C+G   ...ejd91yc\\AdobeNotificationClient.exe      N/A      |\n",
      "|    0   N/A  N/A      6696    C+G   ...5n1h2txyewy\\ShellExperienceHost.exe      N/A      |\n",
      "|    0   N/A  N/A      7260    C+G   ...42.0_x64__8wekyb3d8bbwe\\GameBar.exe      N/A      |\n",
      "|    0   N/A  N/A      7360    C+G   ....Search_cw5n1h2txyewy\\SearchApp.exe      N/A      |\n",
      "|    0   N/A  N/A      9228    C+G   ...oogle\\Chrome\\Application\\chrome.exe      N/A      |\n",
      "|    0   N/A  N/A     10132    C+G   C:\\Windows\\explorer.exe                     N/A      |\n",
      "|    0   N/A  N/A     10412    C+G   ...oogle\\Chrome\\Application\\chrome.exe      N/A      |\n",
      "|    0   N/A  N/A     14772    C+G   ...CBS_cw5n1h2txyewy\\TextInputHost.exe      N/A      |\n",
      "|    0   N/A  N/A     16212    C+G   ...siveControlPanel\\SystemSettings.exe      N/A      |\n",
      "|    0   N/A  N/A     18684    C+G   ...1.0_x64__8wekyb3d8bbwe\\Video.UI.exe      N/A      |\n",
      "+-----------------------------------------------------------------------------------------+\n",
      "nvcc: NVIDIA (R) Cuda compiler driver\n",
      "Copyright (c) 2005-2022 NVIDIA Corporation\n",
      "Built on Wed_Sep_21_10:41:10_Pacific_Daylight_Time_2022\n",
      "Cuda compilation tools, release 11.8, V11.8.89\n",
      "Build cuda_11.8.r11.8/compiler.31833905_0\n"
     ]
    },
    {
     "name": "stderr",
     "output_type": "stream",
     "text": [
      "C:\\Users\\USER\\AppData\\Local\\Temp\\ipykernel_18836\\2453990601.py:6: TqdmDeprecationWarning: This function will be removed in tqdm==5.0.0\n",
      "Please use `tqdm.notebook.tqdm` instead of `tqdm.tqdm_notebook`\n",
      "  tqdm_notebook()\n"
     ]
    },
    {
     "data": {
      "application/vnd.jupyter.widget-view+json": {
       "model_id": "7b039a41d0bb4a309bbede65d27abf5b",
       "version_major": 2,
       "version_minor": 0
      },
      "text/plain": [
       "0it [00:00, ?it/s]"
      ]
     },
     "metadata": {},
     "output_type": "display_data"
    },
    {
     "data": {
      "text/plain": [
       "<tqdm.notebook.tqdm_notebook at 0x1c8a2a6af10>"
      ]
     },
     "execution_count": 1,
     "metadata": {},
     "output_type": "execute_result"
    }
   ],
   "source": [
    "!nvidia-smi\n",
    "!nvcc --version\n",
    "\n",
    "from tqdm import tqdm_notebook\n",
    "\n",
    "tqdm_notebook()"
   ]
  },
  {
   "cell_type": "code",
   "execution_count": 4,
   "id": "8f0849fb-b835-4f13-8daa-dacc2fd417ce",
   "metadata": {},
   "outputs": [
    {
     "name": "stderr",
     "output_type": "stream",
     "text": [
      "Cloning into 'KoBART-summarization'...\n"
     ]
    }
   ],
   "source": [
    "!git clone https://github.com/seujung/KoBART-summarization.git"
   ]
  },
  {
   "cell_type": "code",
   "execution_count": 3,
   "id": "1d2c1163-ad5a-4bec-bbba-9f2bb9d4d8e6",
   "metadata": {},
   "outputs": [
    {
     "name": "stdout",
     "output_type": "stream",
     "text": [
      "cuda\n",
      "2.0.1+cu118\n",
      "True\n",
      "1\n"
     ]
    }
   ],
   "source": [
    "import torch\n",
    "\n",
    "device = torch.device('cuda')\n",
    "print(device)\n",
    "print(torch.__version__)\n",
    "print(torch.cuda.is_available())\n",
    "print(torch.cuda.device_count())  # Should print the number of available GPUs"
   ]
  },
  {
   "cell_type": "code",
   "execution_count": 3,
   "id": "5e2302e7-90f2-471e-95be-3e2158f6f000",
   "metadata": {},
   "outputs": [
    {
     "name": "stdout",
     "output_type": "stream",
     "text": [
      "C:\\Users\\USER\\KoBART-summarization\n"
     ]
    },
    {
     "name": "stderr",
     "output_type": "stream",
     "text": [
      "'pwd'은(는) 내부 또는 외부 명령, 실행할 수 있는 프로그램, 또는\n",
      "배치 파일이 아닙니다.\n"
     ]
    }
   ],
   "source": [
    "%cd KoBART-summarization\n",
    "!pwd"
   ]
  },
  {
   "cell_type": "code",
   "execution_count": 3,
   "id": "c97a68fa-4a11-4c64-a84f-d5b68e17ad6e",
   "metadata": {},
   "outputs": [
    {
     "name": "stdout",
     "output_type": "stream",
     "text": [
      "Requirement already satisfied: pandas in c:\\users\\user\\anaconda3\\lib\\site-packages (from -r requirements.txt (line 1)) (2.0.3)\n",
      "Requirement already satisfied: torch==2.0.1 in c:\\users\\user\\anaconda3\\lib\\site-packages (from -r requirements.txt (line 2)) (2.0.1+cu118)\n",
      "Requirement already satisfied: transformers==4.32.1 in c:\\users\\user\\anaconda3\\lib\\site-packages (from -r requirements.txt (line 3)) (4.32.1)\n",
      "Requirement already satisfied: tokenizers==0.13.3 in c:\\users\\user\\anaconda3\\lib\\site-packages (from -r requirements.txt (line 4)) (0.13.3)\n",
      "Requirement already satisfied: lightning==2.0.8 in c:\\users\\user\\anaconda3\\lib\\site-packages (from -r requirements.txt (line 5)) (2.0.8)\n",
      "Requirement already satisfied: streamlit==1.26.0 in c:\\users\\user\\anaconda3\\lib\\site-packages (from -r requirements.txt (line 6)) (1.26.0)\n",
      "Requirement already satisfied: wandb==0.15.9 in c:\\users\\user\\anaconda3\\lib\\site-packages (from -r requirements.txt (line 7)) (0.15.9)\n",
      "Requirement already satisfied: filelock in c:\\users\\user\\anaconda3\\lib\\site-packages (from torch==2.0.1->-r requirements.txt (line 2)) (3.13.1)\n",
      "Requirement already satisfied: typing-extensions in c:\\users\\user\\anaconda3\\lib\\site-packages (from torch==2.0.1->-r requirements.txt (line 2)) (4.11.0)\n",
      "Requirement already satisfied: sympy in c:\\users\\user\\anaconda3\\lib\\site-packages (from torch==2.0.1->-r requirements.txt (line 2)) (1.13.2)\n",
      "Requirement already satisfied: networkx in c:\\users\\user\\anaconda3\\lib\\site-packages (from torch==2.0.1->-r requirements.txt (line 2)) (3.1)\n",
      "Requirement already satisfied: jinja2 in c:\\users\\user\\anaconda3\\lib\\site-packages (from torch==2.0.1->-r requirements.txt (line 2)) (3.1.4)\n",
      "Requirement already satisfied: huggingface-hub<1.0,>=0.15.1 in c:\\users\\user\\anaconda3\\lib\\site-packages (from transformers==4.32.1->-r requirements.txt (line 3)) (0.26.2)\n",
      "Requirement already satisfied: numpy>=1.17 in c:\\users\\user\\anaconda3\\lib\\site-packages (from transformers==4.32.1->-r requirements.txt (line 3)) (1.24.3)\n",
      "Requirement already satisfied: packaging>=20.0 in c:\\users\\user\\anaconda3\\lib\\site-packages (from transformers==4.32.1->-r requirements.txt (line 3)) (23.2)\n",
      "Requirement already satisfied: pyyaml>=5.1 in c:\\users\\user\\anaconda3\\lib\\site-packages (from transformers==4.32.1->-r requirements.txt (line 3)) (6.0.2)\n",
      "Requirement already satisfied: regex!=2019.12.17 in c:\\users\\user\\anaconda3\\lib\\site-packages (from transformers==4.32.1->-r requirements.txt (line 3)) (2024.9.11)\n",
      "Requirement already satisfied: requests in c:\\users\\user\\anaconda3\\lib\\site-packages (from transformers==4.32.1->-r requirements.txt (line 3)) (2.32.3)\n",
      "Requirement already satisfied: safetensors>=0.3.1 in c:\\users\\user\\anaconda3\\lib\\site-packages (from transformers==4.32.1->-r requirements.txt (line 3)) (0.4.5)\n",
      "Requirement already satisfied: tqdm>=4.27 in c:\\users\\user\\anaconda3\\lib\\site-packages (from transformers==4.32.1->-r requirements.txt (line 3)) (4.66.5)\n",
      "Requirement already satisfied: arrow<3.0,>=1.2.0 in c:\\users\\user\\anaconda3\\lib\\site-packages (from lightning==2.0.8->-r requirements.txt (line 5)) (1.3.0)\n",
      "Requirement already satisfied: backoff<4.0,>=2.2.1 in c:\\users\\user\\anaconda3\\lib\\site-packages (from lightning==2.0.8->-r requirements.txt (line 5)) (2.2.1)\n",
      "Requirement already satisfied: beautifulsoup4<6.0,>=4.8.0 in c:\\users\\user\\anaconda3\\lib\\site-packages (from lightning==2.0.8->-r requirements.txt (line 5)) (4.12.3)\n",
      "Requirement already satisfied: click<10.0 in c:\\users\\user\\anaconda3\\lib\\site-packages (from lightning==2.0.8->-r requirements.txt (line 5)) (8.1.7)\n",
      "Requirement already satisfied: croniter<1.5.0,>=1.3.0 in c:\\users\\user\\anaconda3\\lib\\site-packages (from lightning==2.0.8->-r requirements.txt (line 5)) (1.4.1)\n",
      "Requirement already satisfied: dateutils<2.0 in c:\\users\\user\\anaconda3\\lib\\site-packages (from lightning==2.0.8->-r requirements.txt (line 5)) (0.6.12)\n",
      "Requirement already satisfied: deepdiff<8.0,>=5.7.0 in c:\\users\\user\\anaconda3\\lib\\site-packages (from lightning==2.0.8->-r requirements.txt (line 5)) (7.0.1)\n",
      "Requirement already satisfied: fastapi<2.0,>=0.92.0 in c:\\users\\user\\anaconda3\\lib\\site-packages (from lightning==2.0.8->-r requirements.txt (line 5)) (0.115.4)\n",
      "Requirement already satisfied: fsspec<2025.0,>=2022.5.0 in c:\\users\\user\\anaconda3\\lib\\site-packages (from lightning==2.0.8->-r requirements.txt (line 5)) (2024.6.1)\n",
      "Requirement already satisfied: inquirer<5.0,>=2.10.0 in c:\\users\\user\\anaconda3\\lib\\site-packages (from lightning==2.0.8->-r requirements.txt (line 5)) (3.4.0)\n",
      "Requirement already satisfied: lightning-cloud>=0.5.37 in c:\\users\\user\\anaconda3\\lib\\site-packages (from lightning==2.0.8->-r requirements.txt (line 5)) (0.5.70)\n",
      "Requirement already satisfied: lightning-utilities<2.0,>=0.7.0 in c:\\users\\user\\anaconda3\\lib\\site-packages (from lightning==2.0.8->-r requirements.txt (line 5)) (0.11.8)\n",
      "Requirement already satisfied: psutil<7.0 in c:\\users\\user\\anaconda3\\lib\\site-packages (from lightning==2.0.8->-r requirements.txt (line 5)) (5.9.0)\n",
      "Requirement already satisfied: pydantic<2.2.0,>=1.7.4 in c:\\users\\user\\anaconda3\\lib\\site-packages (from lightning==2.0.8->-r requirements.txt (line 5)) (2.1.1)\n",
      "Requirement already satisfied: python-multipart<2.0,>=0.0.5 in c:\\users\\user\\anaconda3\\lib\\site-packages (from lightning==2.0.8->-r requirements.txt (line 5)) (0.0.17)\n",
      "Requirement already satisfied: rich<15.0,>=12.3.0 in c:\\users\\user\\anaconda3\\lib\\site-packages (from lightning==2.0.8->-r requirements.txt (line 5)) (13.7.1)\n",
      "Requirement already satisfied: starlette in c:\\users\\user\\anaconda3\\lib\\site-packages (from lightning==2.0.8->-r requirements.txt (line 5)) (0.41.2)\n",
      "Requirement already satisfied: starsessions<2.0,>=1.2.1 in c:\\users\\user\\anaconda3\\lib\\site-packages (from lightning==2.0.8->-r requirements.txt (line 5)) (1.3.0)\n",
      "Requirement already satisfied: torchmetrics<2.0,>=0.7.0 in c:\\users\\user\\anaconda3\\lib\\site-packages (from lightning==2.0.8->-r requirements.txt (line 5)) (1.5.2)\n",
      "Requirement already satisfied: traitlets<7.0,>=5.3.0 in c:\\users\\user\\anaconda3\\lib\\site-packages (from lightning==2.0.8->-r requirements.txt (line 5)) (5.14.3)\n",
      "Requirement already satisfied: urllib3<4.0 in c:\\users\\user\\anaconda3\\lib\\site-packages (from lightning==2.0.8->-r requirements.txt (line 5)) (1.26.19)\n",
      "Requirement already satisfied: uvicorn<2.0 in c:\\users\\user\\anaconda3\\lib\\site-packages (from lightning==2.0.8->-r requirements.txt (line 5)) (0.32.0)\n",
      "Requirement already satisfied: websocket-client<3.0 in c:\\users\\user\\anaconda3\\lib\\site-packages (from lightning==2.0.8->-r requirements.txt (line 5)) (1.8.0)\n",
      "Requirement already satisfied: websockets<13.0 in c:\\users\\user\\anaconda3\\lib\\site-packages (from lightning==2.0.8->-r requirements.txt (line 5)) (12.0)\n",
      "Collecting pytorch-lightning (from lightning==2.0.8->-r requirements.txt (line 5))\n",
      "  Using cached pytorch_lightning-2.4.0-py3-none-any.whl.metadata (21 kB)\n",
      "Requirement already satisfied: altair<6,>=4.0 in c:\\users\\user\\anaconda3\\lib\\site-packages (from streamlit==1.26.0->-r requirements.txt (line 6)) (5.0.1)\n",
      "Requirement already satisfied: blinker<2,>=1.0.0 in c:\\users\\user\\anaconda3\\lib\\site-packages (from streamlit==1.26.0->-r requirements.txt (line 6)) (1.6.2)\n",
      "Requirement already satisfied: cachetools<6,>=4.0 in c:\\users\\user\\anaconda3\\lib\\site-packages (from streamlit==1.26.0->-r requirements.txt (line 6)) (5.3.3)\n",
      "Requirement already satisfied: importlib-metadata<7,>=1.4 in c:\\users\\user\\anaconda3\\lib\\site-packages (from streamlit==1.26.0->-r requirements.txt (line 6)) (6.11.0)\n",
      "Requirement already satisfied: pillow<10,>=7.1.0 in c:\\users\\user\\anaconda3\\lib\\site-packages (from streamlit==1.26.0->-r requirements.txt (line 6)) (9.5.0)\n",
      "Requirement already satisfied: protobuf<5,>=3.20 in c:\\users\\user\\anaconda3\\lib\\site-packages (from streamlit==1.26.0->-r requirements.txt (line 6)) (4.25.3)\n",
      "Requirement already satisfied: pyarrow>=6.0 in c:\\users\\user\\anaconda3\\lib\\site-packages (from streamlit==1.26.0->-r requirements.txt (line 6)) (16.1.0)\n",
      "Requirement already satisfied: pympler<2,>=0.9 in c:\\users\\user\\anaconda3\\lib\\site-packages (from streamlit==1.26.0->-r requirements.txt (line 6)) (1.1)\n",
      "Requirement already satisfied: python-dateutil<3,>=2.7.3 in c:\\users\\user\\anaconda3\\lib\\site-packages (from streamlit==1.26.0->-r requirements.txt (line 6)) (2.9.0.post0)\n",
      "Requirement already satisfied: tenacity<9,>=8.1.0 in c:\\users\\user\\anaconda3\\lib\\site-packages (from streamlit==1.26.0->-r requirements.txt (line 6)) (8.2.3)\n",
      "Requirement already satisfied: toml<2,>=0.10.1 in c:\\users\\user\\anaconda3\\lib\\site-packages (from streamlit==1.26.0->-r requirements.txt (line 6)) (0.10.2)\n",
      "Requirement already satisfied: tzlocal<5,>=1.1 in c:\\users\\user\\anaconda3\\lib\\site-packages (from streamlit==1.26.0->-r requirements.txt (line 6)) (4.3.1)\n",
      "Requirement already satisfied: validators<1,>=0.2 in c:\\users\\user\\anaconda3\\lib\\site-packages (from streamlit==1.26.0->-r requirements.txt (line 6)) (0.34.0)\n",
      "Requirement already satisfied: gitpython!=3.1.19,<4,>=3.0.7 in c:\\users\\user\\anaconda3\\lib\\site-packages (from streamlit==1.26.0->-r requirements.txt (line 6)) (3.1.43)\n",
      "Requirement already satisfied: pydeck<1,>=0.8 in c:\\users\\user\\anaconda3\\lib\\site-packages (from streamlit==1.26.0->-r requirements.txt (line 6)) (0.8.0)\n",
      "Requirement already satisfied: tornado<7,>=6.0.3 in c:\\users\\user\\anaconda3\\lib\\site-packages (from streamlit==1.26.0->-r requirements.txt (line 6)) (6.4.1)\n",
      "Requirement already satisfied: watchdog>=2.1.5 in c:\\users\\user\\anaconda3\\lib\\site-packages (from streamlit==1.26.0->-r requirements.txt (line 6)) (4.0.1)\n",
      "Requirement already satisfied: sentry-sdk>=1.0.0 in c:\\users\\user\\anaconda3\\lib\\site-packages (from wandb==0.15.9->-r requirements.txt (line 7)) (2.18.0)\n",
      "Requirement already satisfied: docker-pycreds>=0.4.0 in c:\\users\\user\\anaconda3\\lib\\site-packages (from wandb==0.15.9->-r requirements.txt (line 7)) (0.4.0)\n",
      "Requirement already satisfied: pathtools in c:\\users\\user\\anaconda3\\lib\\site-packages (from wandb==0.15.9->-r requirements.txt (line 7)) (0.1.2)\n",
      "Requirement already satisfied: setproctitle in c:\\users\\user\\anaconda3\\lib\\site-packages (from wandb==0.15.9->-r requirements.txt (line 7)) (1.3.3)\n",
      "Requirement already satisfied: setuptools in c:\\users\\user\\anaconda3\\lib\\site-packages (from wandb==0.15.9->-r requirements.txt (line 7)) (75.1.0)\n",
      "Requirement already satisfied: appdirs>=1.4.3 in c:\\users\\user\\anaconda3\\lib\\site-packages (from wandb==0.15.9->-r requirements.txt (line 7)) (1.4.4)\n",
      "Requirement already satisfied: pytz>=2020.1 in c:\\users\\user\\anaconda3\\lib\\site-packages (from pandas->-r requirements.txt (line 1)) (2024.1)\n",
      "Requirement already satisfied: tzdata>=2022.1 in c:\\users\\user\\anaconda3\\lib\\site-packages (from pandas->-r requirements.txt (line 1)) (2023.3)\n",
      "Requirement already satisfied: jsonschema>=3.0 in c:\\users\\user\\anaconda3\\lib\\site-packages (from altair<6,>=4.0->streamlit==1.26.0->-r requirements.txt (line 6)) (4.23.0)\n",
      "Requirement already satisfied: toolz in c:\\users\\user\\anaconda3\\lib\\site-packages (from altair<6,>=4.0->streamlit==1.26.0->-r requirements.txt (line 6)) (0.12.0)\n",
      "Requirement already satisfied: soupsieve>1.2 in c:\\users\\user\\anaconda3\\lib\\site-packages (from beautifulsoup4<6.0,>=4.8.0->lightning==2.0.8->-r requirements.txt (line 5)) (2.5)\n",
      "Requirement already satisfied: colorama in c:\\users\\user\\anaconda3\\lib\\site-packages (from click<10.0->lightning==2.0.8->-r requirements.txt (line 5)) (0.4.6)\n",
      "Requirement already satisfied: ordered-set<4.2.0,>=4.1.0 in c:\\users\\user\\anaconda3\\lib\\site-packages (from deepdiff<8.0,>=5.7.0->lightning==2.0.8->-r requirements.txt (line 5)) (4.1.0)\n",
      "Requirement already satisfied: six>=1.4.0 in c:\\users\\user\\anaconda3\\lib\\site-packages (from docker-pycreds>=0.4.0->wandb==0.15.9->-r requirements.txt (line 7)) (1.16.0)\n",
      "Requirement already satisfied: aiohttp!=4.0.0a0,!=4.0.0a1 in c:\\users\\user\\anaconda3\\lib\\site-packages (from fsspec[http]<2025.0,>2021.06.0->lightning==2.0.8->-r requirements.txt (line 5)) (3.10.5)\n",
      "Requirement already satisfied: gitdb<5,>=4.0.1 in c:\\users\\user\\anaconda3\\lib\\site-packages (from gitpython!=3.1.19,<4,>=3.0.7->streamlit==1.26.0->-r requirements.txt (line 6)) (4.0.7)\n",
      "Requirement already satisfied: zipp>=0.5 in c:\\users\\user\\anaconda3\\lib\\site-packages (from importlib-metadata<7,>=1.4->streamlit==1.26.0->-r requirements.txt (line 6)) (3.20.2)\n",
      "Requirement already satisfied: blessed>=1.19.0 in c:\\users\\user\\anaconda3\\lib\\site-packages (from inquirer<5.0,>=2.10.0->lightning==2.0.8->-r requirements.txt (line 5)) (1.20.0)\n",
      "Requirement already satisfied: editor>=1.6.0 in c:\\users\\user\\anaconda3\\lib\\site-packages (from inquirer<5.0,>=2.10.0->lightning==2.0.8->-r requirements.txt (line 5)) (1.6.6)\n",
      "Requirement already satisfied: readchar>=4.2.0 in c:\\users\\user\\anaconda3\\lib\\site-packages (from inquirer<5.0,>=2.10.0->lightning==2.0.8->-r requirements.txt (line 5)) (4.2.1)\n",
      "Requirement already satisfied: MarkupSafe>=2.0 in c:\\users\\user\\anaconda3\\lib\\site-packages (from jinja2->torch==2.0.1->-r requirements.txt (line 2)) (2.1.3)\n",
      "Requirement already satisfied: pyjwt in c:\\users\\user\\anaconda3\\lib\\site-packages (from lightning-cloud>=0.5.37->lightning==2.0.8->-r requirements.txt (line 5)) (2.8.0)\n",
      "Requirement already satisfied: boto3 in c:\\users\\user\\anaconda3\\lib\\site-packages (from lightning-cloud>=0.5.37->lightning==2.0.8->-r requirements.txt (line 5)) (1.35.57)\n",
      "Requirement already satisfied: annotated-types>=0.4.0 in c:\\users\\user\\anaconda3\\lib\\site-packages (from pydantic<2.2.0,>=1.7.4->lightning==2.0.8->-r requirements.txt (line 5)) (0.6.0)\n",
      "Requirement already satisfied: pydantic-core==2.4.0 in c:\\users\\user\\anaconda3\\lib\\site-packages (from pydantic<2.2.0,>=1.7.4->lightning==2.0.8->-r requirements.txt (line 5)) (2.4.0)\n",
      "Requirement already satisfied: pywin32>=226 in c:\\users\\user\\anaconda3\\lib\\site-packages (from pympler<2,>=0.9->streamlit==1.26.0->-r requirements.txt (line 6)) (305.1)\n",
      "Requirement already satisfied: charset-normalizer<4,>=2 in c:\\users\\user\\anaconda3\\lib\\site-packages (from requests->transformers==4.32.1->-r requirements.txt (line 3)) (3.3.2)\n",
      "Requirement already satisfied: idna<4,>=2.5 in c:\\users\\user\\anaconda3\\lib\\site-packages (from requests->transformers==4.32.1->-r requirements.txt (line 3)) (3.7)\n",
      "Requirement already satisfied: certifi>=2017.4.17 in c:\\users\\user\\anaconda3\\lib\\site-packages (from requests->transformers==4.32.1->-r requirements.txt (line 3)) (2024.8.30)\n",
      "Requirement already satisfied: markdown-it-py>=2.2.0 in c:\\users\\user\\anaconda3\\lib\\site-packages (from rich<15.0,>=12.3.0->lightning==2.0.8->-r requirements.txt (line 5)) (2.2.0)\n",
      "Requirement already satisfied: pygments<3.0.0,>=2.13.0 in c:\\users\\user\\anaconda3\\lib\\site-packages (from rich<15.0,>=12.3.0->lightning==2.0.8->-r requirements.txt (line 5)) (2.15.1)\n",
      "Requirement already satisfied: anyio<5,>=3.4.0 in c:\\users\\user\\anaconda3\\lib\\site-packages (from starlette->lightning==2.0.8->-r requirements.txt (line 5)) (4.2.0)\n",
      "Requirement already satisfied: itsdangerous<3.0.0,>=2.0.1 in c:\\users\\user\\anaconda3\\lib\\site-packages (from starsessions<2.0,>=1.2.1->lightning==2.0.8->-r requirements.txt (line 5)) (2.2.0)\n",
      "Requirement already satisfied: pytz-deprecation-shim in c:\\users\\user\\anaconda3\\lib\\site-packages (from tzlocal<5,>=1.1->streamlit==1.26.0->-r requirements.txt (line 6)) (0.1.0.post0)\n",
      "Requirement already satisfied: backports.zoneinfo in c:\\users\\user\\anaconda3\\lib\\site-packages (from tzlocal<5,>=1.1->streamlit==1.26.0->-r requirements.txt (line 6)) (0.2.1)\n",
      "Requirement already satisfied: h11>=0.8 in c:\\users\\user\\anaconda3\\lib\\site-packages (from uvicorn<2.0->lightning==2.0.8->-r requirements.txt (line 5)) (0.14.0)\n",
      "INFO: pip is looking at multiple versions of pytorch-lightning to determine which version is compatible with other requirements. This could take a while.\n",
      "  Using cached pytorch_lightning-2.3.3-py3-none-any.whl.metadata (21 kB)\n",
      "Requirement already satisfied: mpmath<1.4,>=1.1.0 in c:\\users\\user\\anaconda3\\lib\\site-packages (from sympy->torch==2.0.1->-r requirements.txt (line 2)) (1.3.0)\n",
      "Requirement already satisfied: aiohappyeyeballs>=2.3.0 in c:\\users\\user\\anaconda3\\lib\\site-packages (from aiohttp!=4.0.0a0,!=4.0.0a1->fsspec[http]<2025.0,>2021.06.0->lightning==2.0.8->-r requirements.txt (line 5)) (2.4.0)\n",
      "Requirement already satisfied: aiosignal>=1.1.2 in c:\\users\\user\\anaconda3\\lib\\site-packages (from aiohttp!=4.0.0a0,!=4.0.0a1->fsspec[http]<2025.0,>2021.06.0->lightning==2.0.8->-r requirements.txt (line 5)) (1.2.0)\n",
      "Requirement already satisfied: attrs>=17.3.0 in c:\\users\\user\\anaconda3\\lib\\site-packages (from aiohttp!=4.0.0a0,!=4.0.0a1->fsspec[http]<2025.0,>2021.06.0->lightning==2.0.8->-r requirements.txt (line 5)) (24.2.0)\n",
      "Requirement already satisfied: frozenlist>=1.1.1 in c:\\users\\user\\anaconda3\\lib\\site-packages (from aiohttp!=4.0.0a0,!=4.0.0a1->fsspec[http]<2025.0,>2021.06.0->lightning==2.0.8->-r requirements.txt (line 5)) (1.4.0)\n",
      "Requirement already satisfied: multidict<7.0,>=4.5 in c:\\users\\user\\anaconda3\\lib\\site-packages (from aiohttp!=4.0.0a0,!=4.0.0a1->fsspec[http]<2025.0,>2021.06.0->lightning==2.0.8->-r requirements.txt (line 5)) (6.0.4)\n",
      "Requirement already satisfied: yarl<2.0,>=1.0 in c:\\users\\user\\anaconda3\\lib\\site-packages (from aiohttp!=4.0.0a0,!=4.0.0a1->fsspec[http]<2025.0,>2021.06.0->lightning==2.0.8->-r requirements.txt (line 5)) (1.11.0)\n",
      "Requirement already satisfied: async-timeout<5.0,>=4.0 in c:\\users\\user\\anaconda3\\lib\\site-packages (from aiohttp!=4.0.0a0,!=4.0.0a1->fsspec[http]<2025.0,>2021.06.0->lightning==2.0.8->-r requirements.txt (line 5)) (4.0.3)\n",
      "Requirement already satisfied: sniffio>=1.1 in c:\\users\\user\\anaconda3\\lib\\site-packages (from anyio<5,>=3.4.0->starlette->lightning==2.0.8->-r requirements.txt (line 5)) (1.3.0)\n",
      "Requirement already satisfied: exceptiongroup>=1.0.2 in c:\\users\\user\\anaconda3\\lib\\site-packages (from anyio<5,>=3.4.0->starlette->lightning==2.0.8->-r requirements.txt (line 5)) (1.2.0)\n",
      "Requirement already satisfied: wcwidth>=0.1.4 in c:\\users\\user\\anaconda3\\lib\\site-packages (from blessed>=1.19.0->inquirer<5.0,>=2.10.0->lightning==2.0.8->-r requirements.txt (line 5)) (0.2.5)\n",
      "Requirement already satisfied: jinxed>=1.1.0 in c:\\users\\user\\anaconda3\\lib\\site-packages (from blessed>=1.19.0->inquirer<5.0,>=2.10.0->lightning==2.0.8->-r requirements.txt (line 5)) (1.3.0)\n",
      "Requirement already satisfied: runs in c:\\users\\user\\anaconda3\\lib\\site-packages (from editor>=1.6.0->inquirer<5.0,>=2.10.0->lightning==2.0.8->-r requirements.txt (line 5)) (1.2.2)\n",
      "Requirement already satisfied: xmod in c:\\users\\user\\anaconda3\\lib\\site-packages (from editor>=1.6.0->inquirer<5.0,>=2.10.0->lightning==2.0.8->-r requirements.txt (line 5)) (1.8.1)\n",
      "Requirement already satisfied: smmap<5,>=3.0.1 in c:\\users\\user\\anaconda3\\lib\\site-packages (from gitdb<5,>=4.0.1->gitpython!=3.1.19,<4,>=3.0.7->streamlit==1.26.0->-r requirements.txt (line 6)) (4.0.0)\n",
      "Requirement already satisfied: importlib-resources>=1.4.0 in c:\\users\\user\\anaconda3\\lib\\site-packages (from jsonschema>=3.0->altair<6,>=4.0->streamlit==1.26.0->-r requirements.txt (line 6)) (6.4.0)\n",
      "Requirement already satisfied: jsonschema-specifications>=2023.03.6 in c:\\users\\user\\anaconda3\\lib\\site-packages (from jsonschema>=3.0->altair<6,>=4.0->streamlit==1.26.0->-r requirements.txt (line 6)) (2023.7.1)\n",
      "Requirement already satisfied: pkgutil-resolve-name>=1.3.10 in c:\\users\\user\\anaconda3\\lib\\site-packages (from jsonschema>=3.0->altair<6,>=4.0->streamlit==1.26.0->-r requirements.txt (line 6)) (1.3.10)\n",
      "Requirement already satisfied: referencing>=0.28.4 in c:\\users\\user\\anaconda3\\lib\\site-packages (from jsonschema>=3.0->altair<6,>=4.0->streamlit==1.26.0->-r requirements.txt (line 6)) (0.30.2)\n",
      "Requirement already satisfied: rpds-py>=0.7.1 in c:\\users\\user\\anaconda3\\lib\\site-packages (from jsonschema>=3.0->altair<6,>=4.0->streamlit==1.26.0->-r requirements.txt (line 6)) (0.10.6)\n",
      "Requirement already satisfied: mdurl~=0.1 in c:\\users\\user\\anaconda3\\lib\\site-packages (from markdown-it-py>=2.2.0->rich<15.0,>=12.3.0->lightning==2.0.8->-r requirements.txt (line 5)) (0.1.0)\n",
      "Requirement already satisfied: botocore<1.36.0,>=1.35.57 in c:\\users\\user\\anaconda3\\lib\\site-packages (from boto3->lightning-cloud>=0.5.37->lightning==2.0.8->-r requirements.txt (line 5)) (1.35.57)\n",
      "Requirement already satisfied: jmespath<2.0.0,>=0.7.1 in c:\\users\\user\\anaconda3\\lib\\site-packages (from boto3->lightning-cloud>=0.5.37->lightning==2.0.8->-r requirements.txt (line 5)) (1.0.1)\n",
      "Requirement already satisfied: s3transfer<0.11.0,>=0.10.0 in c:\\users\\user\\anaconda3\\lib\\site-packages (from boto3->lightning-cloud>=0.5.37->lightning==2.0.8->-r requirements.txt (line 5)) (0.10.3)\n",
      "Requirement already satisfied: ansicon in c:\\users\\user\\anaconda3\\lib\\site-packages (from jinxed>=1.1.0->blessed>=1.19.0->inquirer<5.0,>=2.10.0->lightning==2.0.8->-r requirements.txt (line 5)) (1.89.0)\n",
      "Using cached pytorch_lightning-2.3.3-py3-none-any.whl (812 kB)\n",
      "Installing collected packages: pytorch-lightning\n",
      "Successfully installed pytorch-lightning-2.3.3\n"
     ]
    }
   ],
   "source": [
    "!pip install -r requirements.txt"
   ]
  },
  {
   "cell_type": "code",
   "execution_count": 27,
   "id": "a753e715-434a-4859-9740-5b9d49079ca7",
   "metadata": {
    "scrolled": true
   },
   "outputs": [
    {
     "name": "stdout",
     "output_type": "stream",
     "text": [
      "^C\n",
      "\n",
      "Sanity Checking: 0it [00:00, ?it/s]\n",
      "Sanity Checking:   0%|          | 0/2 [00:00<?, ?it/s]\n",
      "Sanity Checking DataLoader 0:   0%|          | 0/2 [00:00<?, ?it/s]\n",
      "Sanity Checking DataLoader 0:  50%|#####     | 1/2 [00:00<00:00,  1.25it/s]\n",
      "Sanity Checking DataLoader 0: 100%|##########| 2/2 [00:00<00:00,  2.45it/s]\n",
      "                                                                           \n",
      "\n",
      "Training: 0it [00:00, ?it/s]\n",
      "Training:   0%|          | 0/19875 [00:00<?, ?it/s]\n",
      "Epoch 0:   0%|          | 0/19875 [00:00<?, ?it/s] \n",
      "Epoch 0:   0%|          | 1/19875 [00:51<286:54:30, 51.97s/it]\n",
      "Epoch 0:   0%|          | 1/19875 [00:51<286:54:50, 51.97s/it, v_num=3, train_loss=9.110]\n",
      "Epoch 0:   0%|          | 2/19875 [00:56<156:50:12, 28.41s/it, v_num=3, train_loss=9.110]\n",
      "Epoch 0:   0%|          | 2/19875 [00:56<156:50:12, 28.41s/it, v_num=3, train_loss=8.540]\n",
      "Epoch 0:   0%|          | 3/19875 [01:01<113:26:04, 20.55s/it, v_num=3, train_loss=8.540]\n",
      "Epoch 0:   0%|          | 3/19875 [01:01<113:26:50, 20.55s/it, v_num=3, train_loss=8.140]\n",
      "Epoch 0:   0%|          | 4/19875 [01:06<91:38:25, 16.60s/it, v_num=3, train_loss=8.140] \n",
      "Epoch 0:   0%|          | 4/19875 [01:06<91:39:05, 16.60s/it, v_num=3, train_loss=9.620]\n",
      "Epoch 0:   0%|          | 5/19875 [01:11<78:40:44, 14.25s/it, v_num=3, train_loss=9.620]\n",
      "Epoch 0:   0%|          | 5/19875 [01:11<78:41:20, 14.26s/it, v_num=3, train_loss=7.800]\n",
      "Epoch 0:   0%|          | 6/19875 [01:16<70:03:18, 12.69s/it, v_num=3, train_loss=7.800]\n",
      "Epoch 0:   0%|          | 6/19875 [01:16<70:03:54, 12.69s/it, v_num=3, train_loss=9.230]\n",
      "Epoch 0:   0%|          | 7/19875 [01:21<63:56:59, 11.59s/it, v_num=3, train_loss=9.230]\n",
      "Epoch 0:   0%|          | 7/19875 [01:21<63:57:30, 11.59s/it, v_num=3, train_loss=9.640]\n",
      "Epoch 0:   0%|          | 8/19875 [01:25<59:16:14, 10.74s/it, v_num=3, train_loss=9.640]\n",
      "Epoch 0:   0%|          | 8/19875 [01:25<59:16:37, 10.74s/it, v_num=3, train_loss=9.720]\n",
      "Epoch 0:   0%|          | 9/19875 [01:30<55:41:45, 10.09s/it, v_num=3, train_loss=9.720]\n",
      "Epoch 0:   0%|          | 9/19875 [01:30<55:42:07, 10.09s/it, v_num=3, train_loss=9.370]\n",
      "Epoch 0:   0%|          | 10/19875 [01:35<52:56:04,  9.59s/it, v_num=3, train_loss=9.370]\n",
      "Epoch 0:   0%|          | 10/19875 [01:35<52:57:34,  9.60s/it, v_num=3, train_loss=9.480]\n",
      "Epoch 0:   0%|          | 11/19875 [01:41<50:47:24,  9.20s/it, v_num=3, train_loss=9.480]\n",
      "Epoch 0:   0%|          | 11/19875 [01:41<50:47:40,  9.21s/it, v_num=3, train_loss=8.800]\n",
      "Epoch 0:   0%|          | 12/19875 [01:46<48:51:38,  8.86s/it, v_num=3, train_loss=8.800]\n",
      "Epoch 0:   0%|          | 12/19875 [01:46<48:51:56,  8.86s/it, v_num=3, train_loss=9.650]\n",
      "Epoch 0:   0%|          | 13/19875 [01:51<47:09:56,  8.55s/it, v_num=3, train_loss=9.650]\n",
      "Epoch 0:   0%|          | 13/19875 [01:51<47:09:58,  8.55s/it, v_num=3, train_loss=10.20]\n",
      "Epoch 0:   0%|          | 14/19875 [01:56<45:48:09,  8.30s/it, v_num=3, train_loss=10.20]\n",
      "Epoch 0:   0%|          | 14/19875 [01:56<45:48:09,  8.30s/it, v_num=3, train_loss=9.310]\n",
      "Epoch 0:   0%|          | 15/19875 [02:01<44:37:46,  8.09s/it, v_num=3, train_loss=9.310]\n",
      "Epoch 0:   0%|          | 15/19875 [02:01<44:37:46,  8.09s/it, v_num=3, train_loss=8.870]\n",
      "Epoch 0:   0%|          | 16/19875 [02:06<43:34:20,  7.90s/it, v_num=3, train_loss=8.870]\n",
      "Epoch 0:   0%|          | 16/19875 [02:06<43:34:22,  7.90s/it, v_num=3, train_loss=8.280]\n",
      "Epoch 0:   0%|          | 17/19875 [02:11<42:38:48,  7.73s/it, v_num=3, train_loss=8.280]\n",
      "Epoch 0:   0%|          | 17/19875 [02:11<42:38:57,  7.73s/it, v_num=3, train_loss=8.260]\n",
      "Epoch 0:   0%|          | 18/19875 [02:16<41:48:55,  7.58s/it, v_num=3, train_loss=8.260]\n",
      "Epoch 0:   0%|          | 18/19875 [02:16<41:48:55,  7.58s/it, v_num=3, train_loss=7.070]\n",
      "Epoch 0:   0%|          | 19/19875 [02:21<41:03:16,  7.44s/it, v_num=3, train_loss=7.070]\n",
      "Epoch 0:   0%|          | 19/19875 [02:21<41:03:16,  7.44s/it, v_num=3, train_loss=7.950]\n",
      "Epoch 0:   0%|          | 20/19875 [02:26<40:21:11,  7.32s/it, v_num=3, train_loss=7.950]\n",
      "Epoch 0:   0%|          | 20/19875 [02:26<40:21:29,  7.32s/it, v_num=3, train_loss=8.260]\n",
      "Epoch 0:   0%|          | 21/19875 [02:31<39:41:48,  7.20s/it, v_num=3, train_loss=8.260]\n",
      "Epoch 0:   0%|          | 21/19875 [02:31<39:41:49,  7.20s/it, v_num=3, train_loss=7.780]\n",
      "Epoch 0:   0%|          | 22/19875 [02:36<39:06:26,  7.09s/it, v_num=3, train_loss=7.780]\n",
      "Epoch 0:   0%|          | 22/19875 [02:36<39:06:34,  7.09s/it, v_num=3, train_loss=7.910]\n",
      "Epoch 0:   0%|          | 23/19875 [02:41<38:45:42,  7.03s/it, v_num=3, train_loss=7.910]\n",
      "Epoch 0:   0%|          | 23/19875 [02:41<38:45:42,  7.03s/it, v_num=3, train_loss=7.130]\n",
      "Epoch 0:   0%|          | 24/19875 [02:47<38:28:52,  6.98s/it, v_num=3, train_loss=7.130]\n",
      "Epoch 0:   0%|          | 24/19875 [02:47<38:28:52,  6.98s/it, v_num=3, train_loss=8.100]\n",
      "Epoch 0:   0%|          | 25/19875 [02:53<38:14:43,  6.94s/it, v_num=3, train_loss=8.100]\n",
      "Epoch 0:   0%|          | 25/19875 [02:53<38:14:43,  6.94s/it, v_num=3, train_loss=9.210]\n",
      "Epoch 0:   0%|          | 26/19875 [03:01<38:25:30,  6.97s/it, v_num=3, train_loss=9.210]\n",
      "Epoch 0:   0%|          | 26/19875 [03:01<38:25:31,  6.97s/it, v_num=3, train_loss=6.930]\n",
      "Epoch 0:   0%|          | 27/19875 [03:06<38:06:57,  6.91s/it, v_num=3, train_loss=6.930]\n",
      "Epoch 0:   0%|          | 27/19875 [03:06<38:06:57,  6.91s/it, v_num=3, train_loss=6.890]\n",
      "Epoch 0:   0%|          | 28/19875 [03:17<38:52:50,  7.05s/it, v_num=3, train_loss=6.890]\n",
      "Epoch 0:   0%|          | 28/19875 [03:17<38:53:14,  7.05s/it, v_num=3, train_loss=7.330]\n",
      "Epoch 0:   0%|          | 29/19875 [03:23<38:35:26,  7.00s/it, v_num=3, train_loss=7.330]\n",
      "Epoch 0:   0%|          | 29/19875 [03:23<38:35:34,  7.00s/it, v_num=3, train_loss=6.750]\n",
      "Epoch 0:   0%|          | 30/19875 [03:28<38:18:51,  6.95s/it, v_num=3, train_loss=6.750]\n",
      "Epoch 0:   0%|          | 30/19875 [03:28<38:18:51,  6.95s/it, v_num=3, train_loss=5.690]\n",
      "Epoch 0:   0%|          | 31/19875 [03:33<37:58:18,  6.89s/it, v_num=3, train_loss=5.690]\n",
      "Epoch 0:   0%|          | 31/19875 [03:33<37:58:18,  6.89s/it, v_num=3, train_loss=6.110]\n",
      "Epoch 0:   0%|          | 32/19875 [03:38<37:39:38,  6.83s/it, v_num=3, train_loss=6.110]\n",
      "Epoch 0:   0%|          | 32/19875 [03:38<37:39:48,  6.83s/it, v_num=3, train_loss=5.780]\n",
      "Epoch 0:   0%|          | 33/19875 [03:44<37:25:26,  6.79s/it, v_num=3, train_loss=5.780]\n",
      "Epoch 0:   0%|          | 33/19875 [03:44<37:25:32,  6.79s/it, v_num=3, train_loss=5.410]\n",
      "Epoch 0:   0%|          | 34/19875 [03:49<37:08:11,  6.74s/it, v_num=3, train_loss=5.410]\n",
      "Epoch 0:   0%|          | 34/19875 [03:49<37:08:16,  6.74s/it, v_num=3, train_loss=4.890]\n",
      "Epoch 0:   0%|          | 35/19875 [03:54<36:58:17,  6.71s/it, v_num=3, train_loss=4.890]\n",
      "Epoch 0:   0%|          | 35/19875 [03:54<36:58:20,  6.71s/it, v_num=3, train_loss=5.670]\n",
      "Epoch 0:   0%|          | 36/19875 [04:00<36:47:29,  6.68s/it, v_num=3, train_loss=5.670]\n",
      "Epoch 0:   0%|          | 36/19875 [04:00<36:47:36,  6.68s/it, v_num=3, train_loss=4.470]\n",
      "Epoch 0:   0%|          | 37/19875 [04:05<36:33:05,  6.63s/it, v_num=3, train_loss=4.470]\n",
      "Epoch 0:   0%|          | 37/19875 [04:05<36:33:13,  6.63s/it, v_num=3, train_loss=5.010]\n",
      "Epoch 0:   0%|          | 38/19875 [04:10<36:20:26,  6.60s/it, v_num=3, train_loss=5.010]\n",
      "Epoch 0:   0%|          | 38/19875 [04:10<36:20:30,  6.60s/it, v_num=3, train_loss=5.360]\n",
      "Epoch 0:   0%|          | 39/19875 [04:15<36:09:38,  6.56s/it, v_num=3, train_loss=5.360]\n",
      "Epoch 0:   0%|          | 39/19875 [04:15<36:09:38,  6.56s/it, v_num=3, train_loss=4.880]\n",
      "Epoch 0:   0%|          | 40/19875 [04:21<35:58:07,  6.53s/it, v_num=3, train_loss=4.880]\n",
      "Epoch 0:   0%|          | 40/19875 [04:21<35:58:09,  6.53s/it, v_num=3, train_loss=4.490]\n",
      "Epoch 0:   0%|          | 41/19875 [04:26<35:46:36,  6.49s/it, v_num=3, train_loss=4.490]\n",
      "Epoch 0:   0%|          | 41/19875 [04:26<35:46:45,  6.49s/it, v_num=3, train_loss=4.560]\n",
      "Epoch 0:   0%|          | 42/19875 [04:31<35:34:16,  6.46s/it, v_num=3, train_loss=4.560]\n",
      "Epoch 0:   0%|          | 42/19875 [04:31<35:34:16,  6.46s/it, v_num=3, train_loss=4.700]\n",
      "Epoch 0:   0%|          | 43/19875 [04:35<35:20:50,  6.42s/it, v_num=3, train_loss=4.700]\n",
      "Epoch 0:   0%|          | 43/19875 [04:35<35:20:55,  6.42s/it, v_num=3, train_loss=4.370]\n",
      "Epoch 0:   0%|          | 44/19875 [04:41<35:11:06,  6.39s/it, v_num=3, train_loss=4.370]\n",
      "Epoch 0:   0%|          | 44/19875 [04:41<35:11:12,  6.39s/it, v_num=3, train_loss=3.700]\n",
      "Epoch 0:   0%|          | 45/19875 [04:46<35:02:32,  6.36s/it, v_num=3, train_loss=3.700]\n",
      "Epoch 0:   0%|          | 45/19875 [04:46<35:02:37,  6.36s/it, v_num=3, train_loss=3.690]\n",
      "Epoch 0:   0%|          | 46/19875 [04:52<34:58:08,  6.35s/it, v_num=3, train_loss=3.690]\n",
      "Epoch 0:   0%|          | 46/19875 [04:52<34:58:09,  6.35s/it, v_num=3, train_loss=4.060]\n",
      "Epoch 0:   0%|          | 47/19875 [04:59<35:02:20,  6.36s/it, v_num=3, train_loss=4.060]\n",
      "Epoch 0:   0%|          | 47/19875 [04:59<35:02:20,  6.36s/it, v_num=3, train_loss=3.820]\n",
      "Epoch 0:   0%|          | 48/19875 [05:04<34:56:41,  6.34s/it, v_num=3, train_loss=3.820]\n",
      "Epoch 0:   0%|          | 48/19875 [05:04<34:56:56,  6.35s/it, v_num=3, train_loss=3.890]\n",
      "Epoch 0:   0%|          | 49/19875 [05:10<34:55:23,  6.34s/it, v_num=3, train_loss=3.890]\n",
      "Epoch 0:   0%|          | 49/19875 [05:10<34:55:29,  6.34s/it, v_num=3, train_loss=3.710]\n",
      "Epoch 0:   0%|          | 50/19875 [05:16<34:52:02,  6.33s/it, v_num=3, train_loss=3.710]\n",
      "Epoch 0:   0%|          | 50/19875 [05:16<34:52:05,  6.33s/it, v_num=3, train_loss=3.860]\n",
      "Epoch 0:   0%|          | 51/19875 [05:21<34:45:13,  6.31s/it, v_num=3, train_loss=3.860]\n",
      "Epoch 0:   0%|          | 51/19875 [05:21<34:45:18,  6.31s/it, v_num=3, train_loss=3.630]\n",
      "Epoch 0:   0%|          | 52/19875 [05:27<34:38:34,  6.29s/it, v_num=3, train_loss=3.630]\n",
      "Epoch 0:   0%|          | 52/19875 [05:27<34:38:40,  6.29s/it, v_num=3, train_loss=3.380]\n",
      "Epoch 0:   0%|          | 53/19875 [05:32<34:33:12,  6.28s/it, v_num=3, train_loss=3.380]\n",
      "Epoch 0:   0%|          | 53/19875 [05:32<34:33:12,  6.28s/it, v_num=3, train_loss=3.700]\n"
     ]
    },
    {
     "name": "stderr",
     "output_type": "stream",
     "text": [
      "C:\\Users\\USER\\anaconda3\\lib\\site-packages\\huggingface_hub\\file_download.py:797: FutureWarning: `resume_download` is deprecated and will be removed in version 1.0.0. Downloads always resume when possible. If you want to force a new download, use `force_download=True`.\n",
      "  warnings.warn(\n",
      "You passed along `num_labels=3` with an incompatible id to label map: {'0': 'NEGATIVE', '1': 'POSITIVE'}. The number of labels wil be overwritten to 2.\n",
      "\u001b[32m2024-11-11 02:51:15.163\u001b[0m | \u001b[1mINFO    \u001b[0m | \u001b[36m__main__\u001b[0m:\u001b[36m<module>\u001b[0m:\u001b[36m75\u001b[0m - \u001b[1mNamespace(accelerator='gpu', batch_size=11, checkpoint='checkpoint', gradient_clip_val=1.0, lr=3e-05, max_epochs=1, max_len=512, num_gpus=1, num_workers=4, test_file='data/valid_original.tsv', train_file='data/train_original.tsv')\u001b[0m\n",
      "C:\\Users\\USER\\anaconda3\\lib\\site-packages\\huggingface_hub\\file_download.py:797: FutureWarning: `resume_download` is deprecated and will be removed in version 1.0.0. Downloads always resume when possible. If you want to force a new download, use `force_download=True`.\n",
      "  warnings.warn(\n",
      "You passed along `num_labels=3` with an incompatible id to label map: {'0': 'NEGATIVE', '1': 'POSITIVE'}. The number of labels wil be overwritten to 2.\n",
      "You passed along `num_labels=3` with an incompatible id to label map: {'0': 'NEGATIVE', '1': 'POSITIVE'}. The number of labels wil be overwritten to 2.\n",
      "GPU available: True (cuda), used: True\n",
      "TPU available: False, using: 0 TPU cores\n",
      "IPU available: False, using: 0 IPUs\n",
      "HPU available: False, using: 0 HPUs\n",
      "C:\\Users\\USER\\anaconda3\\lib\\site-packages\\lightning\\pytorch\\trainer\\connectors\\logger_connector\\logger_connector.py:67: UserWarning: Starting from v1.9.0, `tensorboardX` has been removed as a dependency of the `lightning.pytorch` package, due to potential conflicts with other packages in the ML ecosystem. For this reason, `logger=True` will use `CSVLogger` as the default logger, unless the `tensorboard` or `tensorboardX` packages are found. Please `pip install lightning[extra]` or one of them to enable TensorBoard support by default\n",
      "  warning_cache.warn(\n",
      "You are using a CUDA device ('NVIDIA GeForce RTX 3070') that has Tensor Cores. To properly utilize them, you should set `torch.set_float32_matmul_precision('medium' | 'high')` which will trade-off precision for performance. For more details, read https://pytorch.org/docs/stable/generated/torch.set_float32_matmul_precision.html#torch.set_float32_matmul_precision\n",
      "C:\\Users\\USER\\anaconda3\\lib\\site-packages\\lightning\\pytorch\\callbacks\\model_checkpoint.py:617: UserWarning: Checkpoint directory checkpoint exists and is not empty.\n",
      "  rank_zero_warn(f\"Checkpoint directory {dirpath} exists and is not empty.\")\n",
      "LOCAL_RANK: 0 - CUDA_VISIBLE_DEVICES: [0]\n",
      "C:\\Users\\USER\\anaconda3\\lib\\site-packages\\transformers\\optimization.py:411: FutureWarning: This implementation of AdamW is deprecated and will be removed in a future version. Use the PyTorch implementation torch.optim.AdamW instead, or set `no_deprecation_warning=True` to disable this warning\n",
      "  warnings.warn(\n",
      "Loading `train_dataloader` to estimate number of stepping batches.\n",
      "\n",
      "  | Name  | Type                         | Params\n",
      "-------------------------------------------------------\n",
      "0 | model | BartForConditionalGeneration | 123 M \n",
      "-------------------------------------------------------\n",
      "123 M     Trainable params\n",
      "0         Non-trainable params\n",
      "123 M     Total params\n",
      "495.440   Total estimated model params size (MB)\n",
      "forrtl: error (200): program aborting due to window-CLOSE event\n",
      "Image              PC                Routine            Line        Source             \n",
      "libifcoremd.dll    00007FFCF754DF54  Unknown               Unknown  Unknown\n",
      "KERNELBASE.dll     00007FFD32FF3C63  Unknown               Unknown  Unknown\n",
      "KERNEL32.DLL       00007FFD33B97374  Unknown               Unknown  Unknown\n",
      "ntdll.dll          00007FFD358DCC91  Unknown               Unknown  Unknown\n",
      "forrtl: error (200): program aborting due to window-CLOSE event\n",
      "Image              PC                Routine            Line        Source             \n",
      "libifcoremd.dll    00007FFCF754DF54  Unknown               Unknown  Unknown\n",
      "KERNELBASE.dll     00007FFD32FF3C63  Unknown               Unknown  Unknown\n",
      "KERNEL32.DLL       00007FFD33B97374  Unknown               Unknown  Unknown\n",
      "ntdll.dll          00007FFD358DCC91  Unknown               Unknown  Unknown\n",
      "forrtl: error (200): program aborting due to window-CLOSE event\n",
      "Image              PC                Routine            Line        Source             \n",
      "libifcoremd.dll    00007FFCF754DF54  Unknown               Unknown  Unknown\n",
      "KERNELBASE.dll     00007FFD32FF3C63  Unknown               Unknown  Unknown\n",
      "KERNEL32.DLL       00007FFD33B97374  Unknown               Unknown  Unknown\n",
      "ntdll.dll          00007FFD358DCC91  Unknown               Unknown  Unknown\n",
      "forrtl: error (200): program aborting due to window-CLOSE event\n",
      "Image              PC                Routine            Line        Source             \n",
      "libifcoremd.dll    00007FFCF754DF54  Unknown               Unknown  Unknown\n",
      "KERNELBASE.dll     00007FFD32FF3C63  Unknown               Unknown  Unknown\n",
      "KERNEL32.DLL       00007FFD33B97374  Unknown               Unknown  Unknown\n",
      "ntdll.dll          00007FFD358DCC91  Unknown               Unknown  Unknown\n",
      "Traceback (most recent call last):\n",
      "  File \"C:\\Users\\USER\\anaconda3\\lib\\site-packages\\torch\\utils\\data\\dataloader.py\", line 1132, in _try_get_data\n",
      "    data = self._data_queue.get(timeout=timeout)\n",
      "  File \"C:\\Users\\USER\\anaconda3\\lib\\multiprocessing\\queues.py\", line 116, in get\n",
      "    return _ForkingPickler.loads(res)\n",
      "  File \"C:\\Users\\USER\\anaconda3\\lib\\site-packages\\torch\\multiprocessing\\reductions.py\", line 324, in rebuild_storage_filename\n",
      "    storage = torch.UntypedStorage._new_shared_filename_cpu(manager, handle, size)\n",
      "RuntimeError: Couldn't open shared event: <0000017EECF262E2>, error code: <2>\n",
      "\n",
      "The above exception was the direct cause of the following exception:\n",
      "\n",
      "Traceback (most recent call last):\n",
      "  File \"train1.py\", line 101, in <module>\n",
      "    trainer.fit(model, dm)\n",
      "  File \"C:\\Users\\USER\\anaconda3\\lib\\site-packages\\lightning\\pytorch\\trainer\\trainer.py\", line 532, in fit\n",
      "    call._call_and_handle_interrupt(\n",
      "  File \"C:\\Users\\USER\\anaconda3\\lib\\site-packages\\lightning\\pytorch\\trainer\\call.py\", line 43, in _call_and_handle_interrupt\n",
      "    return trainer_fn(*args, **kwargs)\n",
      "  File \"C:\\Users\\USER\\anaconda3\\lib\\site-packages\\lightning\\pytorch\\trainer\\trainer.py\", line 571, in _fit_impl\n",
      "    self._run(model, ckpt_path=ckpt_path)\n",
      "  File \"C:\\Users\\USER\\anaconda3\\lib\\site-packages\\lightning\\pytorch\\trainer\\trainer.py\", line 980, in _run\n",
      "    results = self._run_stage()\n",
      "  File \"C:\\Users\\USER\\anaconda3\\lib\\site-packages\\lightning\\pytorch\\trainer\\trainer.py\", line 1023, in _run_stage\n",
      "    self.fit_loop.run()\n",
      "  File \"C:\\Users\\USER\\anaconda3\\lib\\site-packages\\lightning\\pytorch\\loops\\fit_loop.py\", line 202, in run\n",
      "    self.advance()\n",
      "  File \"C:\\Users\\USER\\anaconda3\\lib\\site-packages\\lightning\\pytorch\\loops\\fit_loop.py\", line 355, in advance\n",
      "    self.epoch_loop.run(self._data_fetcher)\n",
      "  File \"C:\\Users\\USER\\anaconda3\\lib\\site-packages\\lightning\\pytorch\\loops\\training_epoch_loop.py\", line 133, in run\n",
      "    self.advance(data_fetcher)\n",
      "  File \"C:\\Users\\USER\\anaconda3\\lib\\site-packages\\lightning\\pytorch\\loops\\training_epoch_loop.py\", line 190, in advance\n",
      "    batch = next(data_fetcher)\n",
      "  File \"C:\\Users\\USER\\anaconda3\\lib\\site-packages\\lightning\\pytorch\\loops\\fetchers.py\", line 126, in __next__\n",
      "    batch = super().__next__()\n",
      "  File \"C:\\Users\\USER\\anaconda3\\lib\\site-packages\\lightning\\pytorch\\loops\\fetchers.py\", line 58, in __next__\n",
      "    batch = next(iterator)\n",
      "  File \"C:\\Users\\USER\\anaconda3\\lib\\site-packages\\lightning\\pytorch\\utilities\\combined_loader.py\", line 285, in __next__\n",
      "    out = next(self._iterator)\n",
      "  File \"C:\\Users\\USER\\anaconda3\\lib\\site-packages\\lightning\\pytorch\\utilities\\combined_loader.py\", line 65, in __next__\n",
      "    out[i] = next(self.iterators[i])\n",
      "  File \"C:\\Users\\USER\\anaconda3\\lib\\site-packages\\torch\\utils\\data\\dataloader.py\", line 633, in __next__\n",
      "    data = self._next_data()\n",
      "  File \"C:\\Users\\USER\\anaconda3\\lib\\site-packages\\torch\\utils\\data\\dataloader.py\", line 1328, in _next_data\n",
      "    idx, data = self._get_data()\n",
      "  File \"C:\\Users\\USER\\anaconda3\\lib\\site-packages\\torch\\utils\\data\\dataloader.py\", line 1294, in _get_data\n",
      "    success, data = self._try_get_data()\n",
      "  File \"C:\\Users\\USER\\anaconda3\\lib\\site-packages\\torch\\utils\\data\\dataloader.py\", line 1145, in _try_get_data\n",
      "    raise RuntimeError('DataLoader worker (pid(s) {}) exited unexpectedly'.format(pids_str)) from e\n",
      "RuntimeError: DataLoader worker (pid(s) 2076, 17104, 17760) exited unexpectedly\n",
      "forrtl: error (200): program aborting due to window-CLOSE event\n",
      "\n",
      "Stack trace terminated abnormally.\n"
     ]
    }
   ],
   "source": [
    "!python train1.py --gradient_clip_val 1.0 --max_epochs 1 --checkpoint checkpoint --accelerator gpu --num_gpus 1 --batch_size 12 --num_workers 4"
   ]
  },
  {
   "cell_type": "code",
   "execution_count": null,
   "id": "116c79b8-ac0b-4b43-9828-da8d9fa06608",
   "metadata": {
    "scrolled": true
   },
   "outputs": [],
   "source": [
    "!python train.py --gradient_clip_val 1.0 --max_epochs 3 --checkpoint checkpoint --accelerator gpu --num_gpus 1 --batch_size 12 --num_workers 4"
   ]
  },
  {
   "cell_type": "code",
   "execution_count": 13,
   "id": "b686e158-0b6f-4d65-85d9-6ef958bc667f",
   "metadata": {},
   "outputs": [
    {
     "name": "stderr",
     "output_type": "stream",
     "text": [
      "You passed along `num_labels=3` with an incompatible id to label map: {'0': 'NEGATIVE', '1': 'POSITIVE'}. The number of labels wil be overwritten to 2.\n",
      "You passed along `num_labels=3` with an incompatible id to label map: {'0': 'NEGATIVE', '1': 'POSITIVE'}. The number of labels wil be overwritten to 2.\n"
     ]
    },
    {
     "name": "stdin",
     "output_type": "stream",
     "text": [
      " 아픈 아들을 자신의 집으로 데려와 키우기 위해 별거 중인 남편의 도장을 위조한 뒤 전입 신고를 했다면 법적 처벌을 받아야 할까.  대법원 3부(주심 노정희 대법관)는 사인위조 등 혐의로 기소된 A씨에 대해 무죄를 선고한 원심을 확정했다고 27일 밝혔다.  A씨는 2015년 이혼소송 중인 남편의 도장을 위조해 자신의 아들 전입 신고에 사용한 혐의로 재판에 넘겨졌다. A씨는 자녀들의 주소지를 이전하는 과정에서 남편 동의를 받지 않고 도장을 위조한 뒤, 이를 찍은 전입신고서를 주민센터에 제출했다.  1심은 \"A씨는 남편과 연락이 가능한 상황이었으므로 승낙을 받는 게 불가능하지 않았다\"며 징역 4개월에 집행유예 1년을 선고했다.  반면 2심은 A씨에게 무죄를 선고했다. 30개월 아이가 감기에 걸려 아픈 상황에서 돌볼 목적으로 데려갔고, 일하는 시간 동안 어린이집에 보내야 해 전입 신고를 하려고 한 것일뿐 불순한 의도가 없었다는 취지다. A씨는 남편에게 전입 신고를 동의해달라고 수십 차례에 걸쳐 메시지를 보냈지만 답장을 받지 못한 것으로 알려졌다.  2심 재판부는 \"남편의 인장이 위조됐다는 법익 침해가 있기는 했지만, 반대 보호이익으로서 자녀의 복리가 우선적으로 고려돼야 한다\"며 \"이러한 점에서 A씨의 남편 인장 위조·사용 행위는 사회윤리 내지 통념에 비춰 용인될 수 있는 행위\"라고 밝혔다. 그러면서 \"남편은 A씨가 아이를 데려간 것을 알고도 곧바로 이의를 제기하지 않았고, 전입 신고 후 수일이 지난 후에야 내용증명을 보냈다\"며 \"A씨로서는 당시 남편이 상황을 방치 또는 묵인했다고 받아들일 여지가 있었다\"고 판단했다.  대법원도 \"원심 판단에 법리를 오해한 잘못이 없다\"며 판결을 확정했다.\n"
     ]
    },
    {
     "name": "stdout",
     "output_type": "stream",
     "text": [
      "대법원 3부는 2015년 이혼소송 중인 남편의 도장을 위조해 자신의 아들 전입 신고에 사용한 혐의로 기소된 A씨에 대해 무죄를 선고한 원심을 확정했다고 27일 밝혔으며 A씨는 자녀들의 주소지를 이전하는 과정에서 남편 동의를 받지 않고 도장을 위조한 뒤, 이를 찍은 전입신고서를 주민센터에 제출했다.\n"
     ]
    }
   ],
   "source": [
    "import torch\n",
    "from transformers import PreTrainedTokenizerFast\n",
    "from transformers.models.bart import BartForConditionalGeneration\n",
    "\n",
    "model = BartForConditionalGeneration.from_pretrained('./kobart_summary')\n",
    "tokenizer = PreTrainedTokenizerFast.from_pretrained('gogamza/kobart-base-v1')\n",
    "\n",
    "text = input()\n",
    "\n",
    "if text:\n",
    "    input_ids = tokenizer.encode(text)\n",
    "    input_ids = torch.tensor(input_ids)\n",
    "    input_ids = input_ids.unsqueeze(0)\n",
    "    output = model.generate(input_ids, eos_token_id=1, max_length=512, num_beams=5)\n",
    "    output = tokenizer.decode(output[0], skip_special_tokens=True)\n",
    "    print(output)"
   ]
  },
  {
   "cell_type": "code",
   "execution_count": 7,
   "id": "0c47f21e-ad32-425f-89e5-e535aed475c1",
   "metadata": {},
   "outputs": [
    {
     "name": "stderr",
     "output_type": "stream",
     "text": [
      "C:\\Users\\USER\\anaconda3\\lib\\site-packages\\huggingface_hub\\file_download.py:797: FutureWarning: `resume_download` is deprecated and will be removed in version 1.0.0. Downloads always resume when possible. If you want to force a new download, use `force_download=True`.\n",
      "  warnings.warn(\n",
      "You passed along `num_labels=3` with an incompatible id to label map: {'0': 'NEGATIVE', '1': 'POSITIVE'}. The number of labels wil be overwritten to 2.\n",
      "You passed along `num_labels=3` with an incompatible id to label map: {'0': 'NEGATIVE', '1': 'POSITIVE'}. The number of labels wil be overwritten to 2.\n"
     ]
    }
   ],
   "source": [
    "!python get_model_binary.py --hparams lightning_logs/version_11/hparams.yaml --model_binary checkpoint/model_chp/epoch=02-val_loss=1.284.ckpt"
   ]
  },
  {
   "cell_type": "code",
   "execution_count": null,
   "id": "0b4d39fd-3801-4223-a678-b6336b6490f8",
   "metadata": {},
   "outputs": [],
   "source": []
  }
 ],
 "metadata": {
  "kernelspec": {
   "display_name": "Python 3 (ipykernel)",
   "language": "python",
   "name": "python3"
  },
  "language_info": {
   "codemirror_mode": {
    "name": "ipython",
    "version": 3
   },
   "file_extension": ".py",
   "mimetype": "text/x-python",
   "name": "python",
   "nbconvert_exporter": "python",
   "pygments_lexer": "ipython3",
   "version": "3.8.20"
  }
 },
 "nbformat": 4,
 "nbformat_minor": 5
}
